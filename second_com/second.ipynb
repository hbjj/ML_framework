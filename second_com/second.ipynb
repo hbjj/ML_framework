{
 "cells": [
  {
   "cell_type": "code",
   "execution_count": 28,
   "metadata": {
    "scrolled": true
   },
   "outputs": [
    {
     "name": "stderr",
     "output_type": "stream",
     "text": [
      "E:\\software\\Anaconda\\install\\lib\\site-packages\\ipykernel_launcher.py:32: DataConversionWarning: A column-vector y was passed when a 1d array was expected. Please change the shape of y to (n_samples, ), for example using ravel().\n"
     ]
    }
   ],
   "source": [
    "import numpy as np\n",
    "import pandas as pd\n",
    "from sklearn.neighbors import KNeighborsClassifier\n",
    "\n",
    "def trainFile(filename, columnNum):\n",
    "    datas = []\n",
    "    with open(filename) as f:\n",
    "        for line in f:\n",
    "            data = []\n",
    "            data.extend(map(int, list(line.replace('?', '0').replace(',', '').replace('\\n', ''))))\n",
    "            datas.append(data)\n",
    "    datas = np.array(datas).reshape((-1, columnNum))\n",
    "    data = datas[:, 0:-1]\n",
    "    label = datas[:, -1].reshape((-1, 1))\n",
    "    return data, label\n",
    "\n",
    "def testFile(filename, columnNum):\n",
    "    datas = []\n",
    "    with open(filename) as f:\n",
    "        for line in f:\n",
    "            data = []\n",
    "            data.extend(map(int, list(line.replace('?', '0').replace(',', '').replace('\\n', ''))))\n",
    "            datas.append(data)\n",
    "    datas = np.array(datas).reshape((-1, columnNum))\n",
    "    return datas\n",
    "\n",
    "if __name__ == '__main__':\n",
    "    trainDatas, trainLabels = trainFile('train.csv', 14)\n",
    "    testDatas = testFile('test.csv', 13)\n",
    "    #使用KNN模型训练\n",
    "    Knn = KNeighborsClassifier(10)\n",
    "    Knn.fit(trainDatas,trainLabels)\n",
    "    y_pred = Knn.predict(testDatas)                                          \n",
    "    Knn.score(testDatas,y_pred)\n",
    "    data = pd.DataFrame(y_pred)\n",
    "    data.to_csv('jiangxiaowei.csv')\n"
   ]
  }
 ],
 "metadata": {
  "kernelspec": {
   "display_name": "Python 3",
   "language": "python",
   "name": "python3"
  },
  "language_info": {
   "codemirror_mode": {
    "name": "ipython",
    "version": 3
   },
   "file_extension": ".py",
   "mimetype": "text/x-python",
   "name": "python",
   "nbconvert_exporter": "python",
   "pygments_lexer": "ipython3",
   "version": "3.7.1"
  }
 },
 "nbformat": 4,
 "nbformat_minor": 2
}
